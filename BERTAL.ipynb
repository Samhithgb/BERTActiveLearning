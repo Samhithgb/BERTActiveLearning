{
  "nbformat": 4,
  "nbformat_minor": 0,
  "metadata": {
    "colab": {
      "name": "NLPProject2.ipynb",
      "provenance": [],
      "collapsed_sections": [],
      "machine_shape": "hm"
    },
    "kernelspec": {
      "name": "python3",
      "display_name": "Python 3"
    },
    "language_info": {
      "name": "python"
    },
    "accelerator": "GPU"
  },
  "cells": [
    {
      "cell_type": "code",
      "metadata": {
        "id": "328jfCTaDdZi",
        "colab": {
          "base_uri": "https://localhost:8080/"
        },
        "outputId": "9f5517e8-8f4a-4b85-ff15-7da35e8e92e4"
      },
      "source": [
        "!pip install baal"
      ],
      "execution_count": null,
      "outputs": [
        {
          "output_type": "stream",
          "text": [
            "Requirement already satisfied: baal in /usr/local/lib/python3.7/dist-packages (1.3.0)\n",
            "Requirement already satisfied: transformers in /usr/local/lib/python3.7/dist-packages (from baal) (4.5.1)\n",
            "Requirement already satisfied: matplotlib in /usr/local/lib/python3.7/dist-packages (from baal) (3.2.2)\n",
            "Requirement already satisfied: tqdm in /usr/local/lib/python3.7/dist-packages (from baal) (4.41.1)\n",
            "Requirement already satisfied: packaging in /usr/local/lib/python3.7/dist-packages (from baal) (20.9)\n",
            "Requirement already satisfied: torchvision>=0.7.0 in /usr/local/lib/python3.7/dist-packages (from baal) (0.9.1+cu101)\n",
            "Requirement already satisfied: torch>=1.6.0 in /usr/local/lib/python3.7/dist-packages (from baal) (1.8.1+cu101)\n",
            "Requirement already satisfied: h5py in /usr/local/lib/python3.7/dist-packages (from baal) (2.10.0)\n",
            "Requirement already satisfied: scikit-learn in /usr/local/lib/python3.7/dist-packages (from baal) (0.22.2.post1)\n",
            "Requirement already satisfied: datasets in /usr/local/lib/python3.7/dist-packages (from baal) (1.6.2)\n",
            "Requirement already satisfied: scipy in /usr/local/lib/python3.7/dist-packages (from baal) (1.4.1)\n",
            "Requirement already satisfied: Pillow>=6.2.0 in /usr/local/lib/python3.7/dist-packages (from baal) (7.1.2)\n",
            "Requirement already satisfied: pytorch-lightning==0.8.5 in /usr/local/lib/python3.7/dist-packages (from baal) (0.8.5)\n",
            "Requirement already satisfied: structlog in /usr/local/lib/python3.7/dist-packages (from baal) (21.1.0)\n",
            "Requirement already satisfied: numpy in /usr/local/lib/python3.7/dist-packages (from baal) (1.19.5)\n",
            "Requirement already satisfied: pandas in /usr/local/lib/python3.7/dist-packages (from baal) (1.1.5)\n",
            "Requirement already satisfied: filelock in /usr/local/lib/python3.7/dist-packages (from transformers->baal) (3.0.12)\n",
            "Requirement already satisfied: sacremoses in /usr/local/lib/python3.7/dist-packages (from transformers->baal) (0.0.45)\n",
            "Requirement already satisfied: regex!=2019.12.17 in /usr/local/lib/python3.7/dist-packages (from transformers->baal) (2019.12.20)\n",
            "Requirement already satisfied: tokenizers<0.11,>=0.10.1 in /usr/local/lib/python3.7/dist-packages (from transformers->baal) (0.10.2)\n",
            "Requirement already satisfied: importlib-metadata; python_version < \"3.8\" in /usr/local/lib/python3.7/dist-packages (from transformers->baal) (3.10.1)\n",
            "Requirement already satisfied: requests in /usr/local/lib/python3.7/dist-packages (from transformers->baal) (2.23.0)\n",
            "Requirement already satisfied: pyparsing!=2.0.4,!=2.1.2,!=2.1.6,>=2.0.1 in /usr/local/lib/python3.7/dist-packages (from matplotlib->baal) (2.4.7)\n",
            "Requirement already satisfied: kiwisolver>=1.0.1 in /usr/local/lib/python3.7/dist-packages (from matplotlib->baal) (1.3.1)\n",
            "Requirement already satisfied: python-dateutil>=2.1 in /usr/local/lib/python3.7/dist-packages (from matplotlib->baal) (2.8.1)\n",
            "Requirement already satisfied: cycler>=0.10 in /usr/local/lib/python3.7/dist-packages (from matplotlib->baal) (0.10.0)\n",
            "Requirement already satisfied: typing-extensions in /usr/local/lib/python3.7/dist-packages (from torch>=1.6.0->baal) (3.7.4.3)\n",
            "Requirement already satisfied: six in /usr/local/lib/python3.7/dist-packages (from h5py->baal) (1.15.0)\n",
            "Requirement already satisfied: joblib>=0.11 in /usr/local/lib/python3.7/dist-packages (from scikit-learn->baal) (1.0.1)\n",
            "Requirement already satisfied: dill in /usr/local/lib/python3.7/dist-packages (from datasets->baal) (0.3.3)\n",
            "Requirement already satisfied: fsspec in /usr/local/lib/python3.7/dist-packages (from datasets->baal) (2021.4.0)\n",
            "Requirement already satisfied: huggingface-hub<0.1.0 in /usr/local/lib/python3.7/dist-packages (from datasets->baal) (0.0.8)\n",
            "Requirement already satisfied: pyarrow>=1.0.0<4.0.0 in /usr/local/lib/python3.7/dist-packages (from datasets->baal) (3.0.0)\n",
            "Requirement already satisfied: xxhash in /usr/local/lib/python3.7/dist-packages (from datasets->baal) (2.0.2)\n",
            "Requirement already satisfied: multiprocess in /usr/local/lib/python3.7/dist-packages (from datasets->baal) (0.70.11.1)\n",
            "Requirement already satisfied: PyYAML>=5.1 in /usr/local/lib/python3.7/dist-packages (from pytorch-lightning==0.8.5->baal) (5.4.1)\n",
            "Requirement already satisfied: tensorboard>=1.14 in /usr/local/lib/python3.7/dist-packages (from pytorch-lightning==0.8.5->baal) (2.4.1)\n",
            "Requirement already satisfied: future>=0.17.1 in /usr/local/lib/python3.7/dist-packages (from pytorch-lightning==0.8.5->baal) (0.18.2)\n",
            "Requirement already satisfied: pytz>=2017.2 in /usr/local/lib/python3.7/dist-packages (from pandas->baal) (2018.9)\n",
            "Requirement already satisfied: click in /usr/local/lib/python3.7/dist-packages (from sacremoses->transformers->baal) (7.1.2)\n",
            "Requirement already satisfied: zipp>=0.5 in /usr/local/lib/python3.7/dist-packages (from importlib-metadata; python_version < \"3.8\"->transformers->baal) (3.4.1)\n",
            "Requirement already satisfied: urllib3!=1.25.0,!=1.25.1,<1.26,>=1.21.1 in /usr/local/lib/python3.7/dist-packages (from requests->transformers->baal) (1.24.3)\n",
            "Requirement already satisfied: certifi>=2017.4.17 in /usr/local/lib/python3.7/dist-packages (from requests->transformers->baal) (2020.12.5)\n",
            "Requirement already satisfied: idna<3,>=2.5 in /usr/local/lib/python3.7/dist-packages (from requests->transformers->baal) (2.10)\n",
            "Requirement already satisfied: chardet<4,>=3.0.2 in /usr/local/lib/python3.7/dist-packages (from requests->transformers->baal) (3.0.4)\n",
            "Requirement already satisfied: grpcio>=1.24.3 in /usr/local/lib/python3.7/dist-packages (from tensorboard>=1.14->pytorch-lightning==0.8.5->baal) (1.32.0)\n",
            "Requirement already satisfied: setuptools>=41.0.0 in /usr/local/lib/python3.7/dist-packages (from tensorboard>=1.14->pytorch-lightning==0.8.5->baal) (56.1.0)\n",
            "Requirement already satisfied: google-auth-oauthlib<0.5,>=0.4.1 in /usr/local/lib/python3.7/dist-packages (from tensorboard>=1.14->pytorch-lightning==0.8.5->baal) (0.4.4)\n",
            "Requirement already satisfied: tensorboard-plugin-wit>=1.6.0 in /usr/local/lib/python3.7/dist-packages (from tensorboard>=1.14->pytorch-lightning==0.8.5->baal) (1.8.0)\n",
            "Requirement already satisfied: protobuf>=3.6.0 in /usr/local/lib/python3.7/dist-packages (from tensorboard>=1.14->pytorch-lightning==0.8.5->baal) (3.12.4)\n",
            "Requirement already satisfied: werkzeug>=0.11.15 in /usr/local/lib/python3.7/dist-packages (from tensorboard>=1.14->pytorch-lightning==0.8.5->baal) (1.0.1)\n",
            "Requirement already satisfied: google-auth<2,>=1.6.3 in /usr/local/lib/python3.7/dist-packages (from tensorboard>=1.14->pytorch-lightning==0.8.5->baal) (1.28.1)\n",
            "Requirement already satisfied: wheel>=0.26; python_version >= \"3\" in /usr/local/lib/python3.7/dist-packages (from tensorboard>=1.14->pytorch-lightning==0.8.5->baal) (0.36.2)\n",
            "Requirement already satisfied: absl-py>=0.4 in /usr/local/lib/python3.7/dist-packages (from tensorboard>=1.14->pytorch-lightning==0.8.5->baal) (0.12.0)\n",
            "Requirement already satisfied: markdown>=2.6.8 in /usr/local/lib/python3.7/dist-packages (from tensorboard>=1.14->pytorch-lightning==0.8.5->baal) (3.3.4)\n",
            "Requirement already satisfied: requests-oauthlib>=0.7.0 in /usr/local/lib/python3.7/dist-packages (from google-auth-oauthlib<0.5,>=0.4.1->tensorboard>=1.14->pytorch-lightning==0.8.5->baal) (1.3.0)\n",
            "Requirement already satisfied: pyasn1-modules>=0.2.1 in /usr/local/lib/python3.7/dist-packages (from google-auth<2,>=1.6.3->tensorboard>=1.14->pytorch-lightning==0.8.5->baal) (0.2.8)\n",
            "Requirement already satisfied: rsa<5,>=3.1.4; python_version >= \"3.6\" in /usr/local/lib/python3.7/dist-packages (from google-auth<2,>=1.6.3->tensorboard>=1.14->pytorch-lightning==0.8.5->baal) (4.7.2)\n",
            "Requirement already satisfied: cachetools<5.0,>=2.0.0 in /usr/local/lib/python3.7/dist-packages (from google-auth<2,>=1.6.3->tensorboard>=1.14->pytorch-lightning==0.8.5->baal) (4.2.1)\n",
            "Requirement already satisfied: oauthlib>=3.0.0 in /usr/local/lib/python3.7/dist-packages (from requests-oauthlib>=0.7.0->google-auth-oauthlib<0.5,>=0.4.1->tensorboard>=1.14->pytorch-lightning==0.8.5->baal) (3.1.0)\n",
            "Requirement already satisfied: pyasn1<0.5.0,>=0.4.6 in /usr/local/lib/python3.7/dist-packages (from pyasn1-modules>=0.2.1->google-auth<2,>=1.6.3->tensorboard>=1.14->pytorch-lightning==0.8.5->baal) (0.4.8)\n"
          ],
          "name": "stdout"
        }
      ]
    },
    {
      "cell_type": "code",
      "metadata": {
        "id": "WSxBy1lGDhwv"
      },
      "source": [
        "from baal.active import FileDataset, ActiveLearningDataset"
      ],
      "execution_count": null,
      "outputs": []
    },
    {
      "cell_type": "code",
      "metadata": {
        "colab": {
          "base_uri": "https://localhost:8080/"
        },
        "id": "rWxSD6N0Djem",
        "outputId": "7b707699-396c-4df8-8156-5161d78d7d27"
      },
      "source": [
        "from datasets import load_dataset\n",
        "datasets = load_dataset(\"glue\", \"sst2\", cache_dir=\"/tmp\")\n",
        "raw_train_set = datasets['train']\n",
        "raw_valid_set = datasets['validation']\n",
        "al_epochs = 10"
      ],
      "execution_count": null,
      "outputs": [
        {
          "output_type": "stream",
          "text": [
            "Reusing dataset glue (/tmp/glue/sst2/1.0.0/dacbe3125aa31d7f70367a07a8a9e72a5a0bfeb5fc42e75c9db75b96da6053ad)\n"
          ],
          "name": "stderr"
        }
      ]
    },
    {
      "cell_type": "code",
      "metadata": {
        "id": "etX66w25Dkwf",
        "colab": {
          "base_uri": "https://localhost:8080/"
        },
        "outputId": "7fb0c004-7b8b-4195-c45f-223ffb2c974c"
      },
      "source": [
        "from baal.active import active_huggingface_dataset,HuggingFaceDatasets\n",
        "from transformers import BertTokenizer\n",
        "pretrained_weights = 'bert-base-uncased'\n",
        "\n",
        "tokenizer = BertTokenizer.from_pretrained(pretrained_model_name_or_path=pretrained_weights)\n",
        "active_set = active_huggingface_dataset(raw_train_set, tokenizer)\n",
        "valid_set = HuggingFaceDatasets(raw_valid_set, tokenizer)\n",
        "# lets randomly label 100 samples, therefore len(active_set) should be 100\n",
        "active_set.label_randomly(100)\n",
        "assert len(active_set) == 100\n",
        "print(len(active_set.pool))"
      ],
      "execution_count": null,
      "outputs": [
        {
          "output_type": "stream",
          "text": [
            "67249\n"
          ],
          "name": "stdout"
        }
      ]
    },
    {
      "cell_type": "code",
      "metadata": {
        "id": "3KCSmoqcDmUm",
        "colab": {
          "base_uri": "https://localhost:8080/"
        },
        "outputId": "9b280f1c-477c-4d8c-b69c-480bcbe6407c"
      },
      "source": [
        "from copy import deepcopy\n",
        "import torch\n",
        "from transformers import BertForSequenceClassification\n",
        "from baal.bayesian.dropout import patch_module\n",
        "\n",
        "use_cuda = torch.cuda.is_available()\n",
        "\n",
        "model = BertForSequenceClassification.from_pretrained(pretrained_model_name_or_path=pretrained_weights)\n",
        "model = patch_module(model)\n",
        "if use_cuda:\n",
        "    model.cuda()\n",
        "init_weights = deepcopy(model.state_dict())"
      ],
      "execution_count": null,
      "outputs": [
        {
          "output_type": "stream",
          "text": [
            "Some weights of the model checkpoint at bert-base-uncased were not used when initializing BertForSequenceClassification: ['cls.predictions.bias', 'cls.predictions.transform.dense.weight', 'cls.predictions.transform.dense.bias', 'cls.predictions.decoder.weight', 'cls.seq_relationship.weight', 'cls.seq_relationship.bias', 'cls.predictions.transform.LayerNorm.weight', 'cls.predictions.transform.LayerNorm.bias']\n",
            "- This IS expected if you are initializing BertForSequenceClassification from the checkpoint of a model trained on another task or with another architecture (e.g. initializing a BertForSequenceClassification model from a BertForPreTraining model).\n",
            "- This IS NOT expected if you are initializing BertForSequenceClassification from the checkpoint of a model that you expect to be exactly identical (initializing a BertForSequenceClassification model from a BertForSequenceClassification model).\n",
            "Some weights of BertForSequenceClassification were not initialized from the model checkpoint at bert-base-uncased and are newly initialized: ['classifier.weight', 'classifier.bias']\n",
            "You should probably TRAIN this model on a down-stream task to be able to use it for predictions and inference.\n"
          ],
          "name": "stderr"
        }
      ]
    },
    {
      "cell_type": "code",
      "metadata": {
        "id": "W40Xg1tJDnaK"
      },
      "source": [
        "from baal.active import get_heuristic\n",
        "\n",
        "heuristic = get_heuristic('certainty')\n",
        "\n"
      ],
      "execution_count": null,
      "outputs": []
    },
    {
      "cell_type": "code",
      "metadata": {
        "id": "0QLzR0u1gsrb"
      },
      "source": [
        "from sklearn.metrics import precision_recall_fscore_support\n",
        "from sklearn.metrics import f1_score\n",
        "from sklearn.metrics import precision_score\n",
        "from sklearn.metrics import recall_score\n",
        "from sklearn.metrics import accuracy_score\n",
        "import numpy as np \n",
        "\n",
        "def compute_metrics(p):\n",
        "    label = p.label_ids\n",
        "    preds = np.argmax(p.predictions, axis=-1)\n",
        "    return {\n",
        "        'accuracy': accuracy_score(label, preds),\n",
        "        'f1': f1_score(label,preds,labels=np.unique(preds)),\n",
        "        'precision_score' : precision_score(label,preds,labels=np.unique(preds)),\n",
        "        'recall_score' : recall_score(label, preds,labels=np.unique(preds))\n",
        "    }"
      ],
      "execution_count": null,
      "outputs": []
    },
    {
      "cell_type": "code",
      "metadata": {
        "id": "MyqCURA-DrLG",
        "colab": {
          "base_uri": "https://localhost:8080/",
          "height": 1000
        },
        "outputId": "9c634143-b6db-4f6f-a08c-782aa3648091"
      },
      "source": [
        "from transformers import TrainingArguments\n",
        "from baal import BaalTransformersTrainer\n",
        "from baal.active.active_loop import ActiveLearningLoop\n",
        "\n",
        "#Initialization for the huggingface trainer\n",
        "training_args = TrainingArguments(\n",
        "    output_dir='.',  # output directory\n",
        "    num_train_epochs=1,  # total # of training epochs per AL step\n",
        "    per_device_train_batch_size=16,  # batch size per device during training\n",
        "    per_device_eval_batch_size=64,  # batch size for evaluation\n",
        "    weight_decay=0.01,  # strength of weight decay\n",
        "    logging_dir='.',  # directory for storing logs\n",
        "    )\n",
        "\n",
        "# create the trainer through Baal Wrapper\n",
        "baal_trainer = BaalTransformersTrainer(model=model,\n",
        "                                       args=training_args,\n",
        "                                       train_dataset=active_set,\n",
        "                                       eval_dataset=valid_set,\n",
        "                                       compute_metrics=compute_metrics,\n",
        "\n",
        "                                       tokenizer=None)\n",
        "\n",
        "\n",
        "active_loop = ActiveLearningLoop(active_set,\n",
        "                                 baal_trainer.predict_on_dataset,\n",
        "                                 heuristic, 20, iterations=3)\n",
        "\n",
        "for epoch in range(al_epochs):\n",
        "    baal_trainer.train()\n",
        "    eval_metrics = baal_trainer.evaluate()\n",
        "    should_continue = active_loop.step()\n",
        "    # We reset the model weights to relearn from the new trainset.\n",
        "    baal_trainer.load_state_dict(init_weights)\n",
        "    if not should_continue:\n",
        "          break\n",
        "    active_logs = {\"epoch\": epoch,\"labeled_data\": active_set._labelled,\"Next Training set size\": len(active_set)}\n",
        "    logs = {**eval_metrics, **active_logs}\n",
        "    print(logs)\n",
        "\n",
        "# at each Active step we add 1o samples to labelled data. At this point we should have 30 samples added\n",
        "# to the labelled part of trainingset.\n",
        "print(len(active_set))"
      ],
      "execution_count": null,
      "outputs": [
        {
          "output_type": "display_data",
          "data": {
            "text/html": [
              "\n",
              "    <div>\n",
              "        <style>\n",
              "            /* Turns off some styling */\n",
              "            progress {\n",
              "                /* gets rid of default border in Firefox and Opera. */\n",
              "                border: none;\n",
              "                /* Needs to be in here for Safari polyfill so background images work as expected. */\n",
              "                background-size: auto;\n",
              "            }\n",
              "        </style>\n",
              "      \n",
              "      <progress value='7' max='7' style='width:300px; height:20px; vertical-align: middle;'></progress>\n",
              "      [7/7 00:01, Epoch 1/1]\n",
              "    </div>\n",
              "    <table border=\"1\" class=\"dataframe\">\n",
              "  <thead>\n",
              "    <tr style=\"text-align: left;\">\n",
              "      <th>Step</th>\n",
              "      <th>Training Loss</th>\n",
              "    </tr>\n",
              "  </thead>\n",
              "  <tbody>\n",
              "  </tbody>\n",
              "</table><p>"
            ],
            "text/plain": [
              "<IPython.core.display.HTML object>"
            ]
          },
          "metadata": {
            "tags": []
          }
        },
        {
          "output_type": "display_data",
          "data": {
            "text/html": [
              "\n",
              "    <div>\n",
              "        <style>\n",
              "            /* Turns off some styling */\n",
              "            progress {\n",
              "                /* gets rid of default border in Firefox and Opera. */\n",
              "                border: none;\n",
              "                /* Needs to be in here for Safari polyfill so background images work as expected. */\n",
              "                background-size: auto;\n",
              "            }\n",
              "        </style>\n",
              "      \n",
              "      <progress value='140' max='14' style='width:300px; height:20px; vertical-align: middle;'></progress>\n",
              "      [14/14 1:49:54]\n",
              "    </div>\n",
              "    "
            ],
            "text/plain": [
              "<IPython.core.display.HTML object>"
            ]
          },
          "metadata": {
            "tags": []
          }
        },
        {
          "output_type": "stream",
          "text": [
            "[73-MainThread   ] [baal.transformers_trainer_wrapper:predict_on_dataset_generator:61] 2021-05-12T17:58:39.220251Z [\u001b[32minfo     ] Start Predict                  dataset=67249\n"
          ],
          "name": "stdout"
        },
        {
          "output_type": "stream",
          "text": [
            "100%|██████████| 1051/1051 [12:05<00:00,  1.45it/s]\n"
          ],
          "name": "stderr"
        },
        {
          "output_type": "stream",
          "text": [
            "{'eval_loss': 0.6783511638641357, 'eval_accuracy': 0.5756880733944955, 'eval_f1': 0.6605504587155964, 'eval_precision_score': 0.5572755417956656, 'eval_recall_score': 0.8108108108108109, 'eval_runtime': 3.2659, 'eval_samples_per_second': 266.998, 'epoch': 0, 'eval_mem_cpu_alloc_delta': 0, 'eval_mem_gpu_alloc_delta': 0, 'eval_mem_cpu_peaked_delta': 0, 'eval_mem_gpu_peaked_delta': 479175680, 'labeled_data': array([False, False, False, ..., False, False, False]), 'Next Training set size': 120}\n"
          ],
          "name": "stdout"
        },
        {
          "output_type": "display_data",
          "data": {
            "text/html": [
              "\n",
              "    <div>\n",
              "        <style>\n",
              "            /* Turns off some styling */\n",
              "            progress {\n",
              "                /* gets rid of default border in Firefox and Opera. */\n",
              "                border: none;\n",
              "                /* Needs to be in here for Safari polyfill so background images work as expected. */\n",
              "                background-size: auto;\n",
              "            }\n",
              "        </style>\n",
              "      \n",
              "      <progress value='8' max='8' style='width:300px; height:20px; vertical-align: middle;'></progress>\n",
              "      [8/8 00:01, Epoch 1/1]\n",
              "    </div>\n",
              "    <table border=\"1\" class=\"dataframe\">\n",
              "  <thead>\n",
              "    <tr style=\"text-align: left;\">\n",
              "      <th>Step</th>\n",
              "      <th>Training Loss</th>\n",
              "    </tr>\n",
              "  </thead>\n",
              "  <tbody>\n",
              "  </tbody>\n",
              "</table><p>"
            ],
            "text/plain": [
              "<IPython.core.display.HTML object>"
            ]
          },
          "metadata": {
            "tags": []
          }
        },
        {
          "output_type": "stream",
          "text": [
            "[73-MainThread   ] [baal.transformers_trainer_wrapper:predict_on_dataset_generator:61] 2021-05-12T18:10:50.960538Z [\u001b[32minfo     ] Start Predict                  dataset=67229\n"
          ],
          "name": "stdout"
        },
        {
          "output_type": "stream",
          "text": [
            "100%|██████████| 1051/1051 [12:05<00:00,  1.45it/s]\n"
          ],
          "name": "stderr"
        },
        {
          "output_type": "stream",
          "text": [
            "{'eval_loss': 0.7095933556556702, 'eval_accuracy': 0.46674311926605505, 'eval_f1': 0.5730027548209367, 'eval_precision_score': 0.48372093023255813, 'eval_recall_score': 0.7027027027027027, 'eval_runtime': 3.2643, 'eval_samples_per_second': 267.132, 'epoch': 1, 'eval_mem_cpu_alloc_delta': 0, 'eval_mem_gpu_alloc_delta': -17408, 'eval_mem_cpu_peaked_delta': 0, 'eval_mem_gpu_peaked_delta': 277857792, 'labeled_data': array([False, False, False, ..., False, False, False]), 'Next Training set size': 140}\n"
          ],
          "name": "stdout"
        },
        {
          "output_type": "display_data",
          "data": {
            "text/html": [
              "\n",
              "    <div>\n",
              "        <style>\n",
              "            /* Turns off some styling */\n",
              "            progress {\n",
              "                /* gets rid of default border in Firefox and Opera. */\n",
              "                border: none;\n",
              "                /* Needs to be in here for Safari polyfill so background images work as expected. */\n",
              "                background-size: auto;\n",
              "            }\n",
              "        </style>\n",
              "      \n",
              "      <progress value='9' max='9' style='width:300px; height:20px; vertical-align: middle;'></progress>\n",
              "      [9/9 00:02, Epoch 1/1]\n",
              "    </div>\n",
              "    <table border=\"1\" class=\"dataframe\">\n",
              "  <thead>\n",
              "    <tr style=\"text-align: left;\">\n",
              "      <th>Step</th>\n",
              "      <th>Training Loss</th>\n",
              "    </tr>\n",
              "  </thead>\n",
              "  <tbody>\n",
              "  </tbody>\n",
              "</table><p>"
            ],
            "text/plain": [
              "<IPython.core.display.HTML object>"
            ]
          },
          "metadata": {
            "tags": []
          }
        },
        {
          "output_type": "stream",
          "text": [
            "[73-MainThread   ] [baal.transformers_trainer_wrapper:predict_on_dataset_generator:61] 2021-05-12T18:23:02.919319Z [\u001b[32minfo     ] Start Predict                  dataset=67209\n"
          ],
          "name": "stdout"
        },
        {
          "output_type": "stream",
          "text": [
            "100%|██████████| 1051/1051 [12:05<00:00,  1.45it/s]\n"
          ],
          "name": "stderr"
        },
        {
          "output_type": "stream",
          "text": [
            "{'eval_loss': 0.7086722254753113, 'eval_accuracy': 0.4690366972477064, 'eval_f1': 0.5724838411819021, 'eval_precision_score': 0.48513302034428796, 'eval_recall_score': 0.6981981981981982, 'eval_runtime': 3.2633, 'eval_samples_per_second': 267.212, 'epoch': 2, 'eval_mem_cpu_alloc_delta': 0, 'eval_mem_gpu_alloc_delta': -25600, 'eval_mem_cpu_peaked_delta': 0, 'eval_mem_gpu_peaked_delta': 277857792, 'labeled_data': array([False, False, False, ..., False, False, False]), 'Next Training set size': 160}\n"
          ],
          "name": "stdout"
        },
        {
          "output_type": "display_data",
          "data": {
            "text/html": [
              "\n",
              "    <div>\n",
              "        <style>\n",
              "            /* Turns off some styling */\n",
              "            progress {\n",
              "                /* gets rid of default border in Firefox and Opera. */\n",
              "                border: none;\n",
              "                /* Needs to be in here for Safari polyfill so background images work as expected. */\n",
              "                background-size: auto;\n",
              "            }\n",
              "        </style>\n",
              "      \n",
              "      <progress value='10' max='10' style='width:300px; height:20px; vertical-align: middle;'></progress>\n",
              "      [10/10 00:02, Epoch 1/1]\n",
              "    </div>\n",
              "    <table border=\"1\" class=\"dataframe\">\n",
              "  <thead>\n",
              "    <tr style=\"text-align: left;\">\n",
              "      <th>Step</th>\n",
              "      <th>Training Loss</th>\n",
              "    </tr>\n",
              "  </thead>\n",
              "  <tbody>\n",
              "  </tbody>\n",
              "</table><p>"
            ],
            "text/plain": [
              "<IPython.core.display.HTML object>"
            ]
          },
          "metadata": {
            "tags": []
          }
        },
        {
          "output_type": "stream",
          "text": [
            "[73-MainThread   ] [baal.transformers_trainer_wrapper:predict_on_dataset_generator:61] 2021-05-12T18:35:14.943013Z [\u001b[32minfo     ] Start Predict                  dataset=67189\n"
          ],
          "name": "stdout"
        },
        {
          "output_type": "stream",
          "text": [
            "100%|██████████| 1050/1050 [12:04<00:00,  1.45it/s]\n"
          ],
          "name": "stderr"
        },
        {
          "output_type": "stream",
          "text": [
            "{'eval_loss': 0.7139497995376587, 'eval_accuracy': 0.4461009174311927, 'eval_f1': 0.5621033544877607, 'eval_precision_score': 0.47040971168437024, 'eval_recall_score': 0.6981981981981982, 'eval_runtime': 3.2668, 'eval_samples_per_second': 266.924, 'epoch': 3, 'eval_mem_cpu_alloc_delta': 0, 'eval_mem_gpu_alloc_delta': 0, 'eval_mem_cpu_peaked_delta': 0, 'eval_mem_gpu_peaked_delta': 479184384, 'labeled_data': array([False, False, False, ..., False, False, False]), 'Next Training set size': 180}\n"
          ],
          "name": "stdout"
        },
        {
          "output_type": "display_data",
          "data": {
            "text/html": [
              "\n",
              "    <div>\n",
              "        <style>\n",
              "            /* Turns off some styling */\n",
              "            progress {\n",
              "                /* gets rid of default border in Firefox and Opera. */\n",
              "                border: none;\n",
              "                /* Needs to be in here for Safari polyfill so background images work as expected. */\n",
              "                background-size: auto;\n",
              "            }\n",
              "        </style>\n",
              "      \n",
              "      <progress value='12' max='12' style='width:300px; height:20px; vertical-align: middle;'></progress>\n",
              "      [12/12 00:02, Epoch 1/1]\n",
              "    </div>\n",
              "    <table border=\"1\" class=\"dataframe\">\n",
              "  <thead>\n",
              "    <tr style=\"text-align: left;\">\n",
              "      <th>Step</th>\n",
              "      <th>Training Loss</th>\n",
              "    </tr>\n",
              "  </thead>\n",
              "  <tbody>\n",
              "  </tbody>\n",
              "</table><p>"
            ],
            "text/plain": [
              "<IPython.core.display.HTML object>"
            ]
          },
          "metadata": {
            "tags": []
          }
        },
        {
          "output_type": "stream",
          "text": [
            "[73-MainThread   ] [baal.transformers_trainer_wrapper:predict_on_dataset_generator:61] 2021-05-12T18:47:27.188743Z [\u001b[32minfo     ] Start Predict                  dataset=67169\n"
          ],
          "name": "stdout"
        },
        {
          "output_type": "stream",
          "text": [
            "100%|██████████| 1050/1050 [12:04<00:00,  1.45it/s]\n"
          ],
          "name": "stderr"
        },
        {
          "output_type": "stream",
          "text": [
            "{'eval_loss': 0.7048604488372803, 'eval_accuracy': 0.48853211009174313, 'eval_f1': 0.5878003696857671, 'eval_precision_score': 0.49843260188087773, 'eval_recall_score': 0.7162162162162162, 'eval_runtime': 3.2672, 'eval_samples_per_second': 266.894, 'epoch': 4, 'eval_mem_cpu_alloc_delta': 0, 'eval_mem_gpu_alloc_delta': -9216, 'eval_mem_cpu_peaked_delta': 0, 'eval_mem_gpu_peaked_delta': 277857792, 'labeled_data': array([False, False, False, ..., False, False, False]), 'Next Training set size': 200}\n"
          ],
          "name": "stdout"
        },
        {
          "output_type": "display_data",
          "data": {
            "text/html": [
              "\n",
              "    <div>\n",
              "        <style>\n",
              "            /* Turns off some styling */\n",
              "            progress {\n",
              "                /* gets rid of default border in Firefox and Opera. */\n",
              "                border: none;\n",
              "                /* Needs to be in here for Safari polyfill so background images work as expected. */\n",
              "                background-size: auto;\n",
              "            }\n",
              "        </style>\n",
              "      \n",
              "      <progress value='13' max='13' style='width:300px; height:20px; vertical-align: middle;'></progress>\n",
              "      [13/13 00:03, Epoch 1/1]\n",
              "    </div>\n",
              "    <table border=\"1\" class=\"dataframe\">\n",
              "  <thead>\n",
              "    <tr style=\"text-align: left;\">\n",
              "      <th>Step</th>\n",
              "      <th>Training Loss</th>\n",
              "    </tr>\n",
              "  </thead>\n",
              "  <tbody>\n",
              "  </tbody>\n",
              "</table><p>"
            ],
            "text/plain": [
              "<IPython.core.display.HTML object>"
            ]
          },
          "metadata": {
            "tags": []
          }
        },
        {
          "output_type": "stream",
          "text": [
            "[73-MainThread   ] [baal.transformers_trainer_wrapper:predict_on_dataset_generator:61] 2021-05-12T18:59:39.537234Z [\u001b[32minfo     ] Start Predict                  dataset=67149\n"
          ],
          "name": "stdout"
        },
        {
          "output_type": "stream",
          "text": [
            "100%|██████████| 1050/1050 [12:04<00:00,  1.45it/s]\n"
          ],
          "name": "stderr"
        },
        {
          "output_type": "stream",
          "text": [
            "{'eval_loss': 0.706025242805481, 'eval_accuracy': 0.49770642201834864, 'eval_f1': 0.6032608695652175, 'eval_precision_score': 0.5045454545454545, 'eval_recall_score': 0.75, 'eval_runtime': 3.2658, 'eval_samples_per_second': 267.009, 'epoch': 5, 'eval_mem_cpu_alloc_delta': 0, 'eval_mem_gpu_alloc_delta': 0, 'eval_mem_cpu_peaked_delta': 0, 'eval_mem_gpu_peaked_delta': 277857792, 'labeled_data': array([False, False, False, ..., False, False, False]), 'Next Training set size': 220}\n"
          ],
          "name": "stdout"
        },
        {
          "output_type": "display_data",
          "data": {
            "text/html": [
              "\n",
              "    <div>\n",
              "        <style>\n",
              "            /* Turns off some styling */\n",
              "            progress {\n",
              "                /* gets rid of default border in Firefox and Opera. */\n",
              "                border: none;\n",
              "                /* Needs to be in here for Safari polyfill so background images work as expected. */\n",
              "                background-size: auto;\n",
              "            }\n",
              "        </style>\n",
              "      \n",
              "      <progress value='14' max='14' style='width:300px; height:20px; vertical-align: middle;'></progress>\n",
              "      [14/14 00:03, Epoch 1/1]\n",
              "    </div>\n",
              "    <table border=\"1\" class=\"dataframe\">\n",
              "  <thead>\n",
              "    <tr style=\"text-align: left;\">\n",
              "      <th>Step</th>\n",
              "      <th>Training Loss</th>\n",
              "    </tr>\n",
              "  </thead>\n",
              "  <tbody>\n",
              "  </tbody>\n",
              "</table><p>"
            ],
            "text/plain": [
              "<IPython.core.display.HTML object>"
            ]
          },
          "metadata": {
            "tags": []
          }
        },
        {
          "output_type": "stream",
          "text": [
            "[73-MainThread   ] [baal.transformers_trainer_wrapper:predict_on_dataset_generator:61] 2021-05-12T19:11:52.043133Z [\u001b[32minfo     ] Start Predict                  dataset=67129\n"
          ],
          "name": "stdout"
        },
        {
          "output_type": "stream",
          "text": [
            "100%|██████████| 1049/1049 [12:04<00:00,  1.45it/s]\n"
          ],
          "name": "stderr"
        },
        {
          "output_type": "stream",
          "text": [
            "{'eval_loss': 0.7072196006774902, 'eval_accuracy': 0.47706422018348627, 'eval_f1': 0.5738317757009345, 'eval_precision_score': 0.4904153354632588, 'eval_recall_score': 0.6914414414414415, 'eval_runtime': 3.2685, 'eval_samples_per_second': 266.791, 'epoch': 6, 'eval_mem_cpu_alloc_delta': 0, 'eval_mem_gpu_alloc_delta': -25600, 'eval_mem_cpu_peaked_delta': 0, 'eval_mem_gpu_peaked_delta': 277857792, 'labeled_data': array([False, False, False, ..., False, False, False]), 'Next Training set size': 240}\n"
          ],
          "name": "stdout"
        },
        {
          "output_type": "display_data",
          "data": {
            "text/html": [
              "\n",
              "    <div>\n",
              "        <style>\n",
              "            /* Turns off some styling */\n",
              "            progress {\n",
              "                /* gets rid of default border in Firefox and Opera. */\n",
              "                border: none;\n",
              "                /* Needs to be in here for Safari polyfill so background images work as expected. */\n",
              "                background-size: auto;\n",
              "            }\n",
              "        </style>\n",
              "      \n",
              "      <progress value='15' max='15' style='width:300px; height:20px; vertical-align: middle;'></progress>\n",
              "      [15/15 00:03, Epoch 1/1]\n",
              "    </div>\n",
              "    <table border=\"1\" class=\"dataframe\">\n",
              "  <thead>\n",
              "    <tr style=\"text-align: left;\">\n",
              "      <th>Step</th>\n",
              "      <th>Training Loss</th>\n",
              "    </tr>\n",
              "  </thead>\n",
              "  <tbody>\n",
              "  </tbody>\n",
              "</table><p>"
            ],
            "text/plain": [
              "<IPython.core.display.HTML object>"
            ]
          },
          "metadata": {
            "tags": []
          }
        },
        {
          "output_type": "stream",
          "text": [
            "[73-MainThread   ] [baal.transformers_trainer_wrapper:predict_on_dataset_generator:61] 2021-05-12T19:24:04.638878Z [\u001b[32minfo     ] Start Predict                  dataset=67109\n"
          ],
          "name": "stdout"
        },
        {
          "output_type": "stream",
          "text": [
            "100%|██████████| 1049/1049 [12:04<00:00,  1.45it/s]\n"
          ],
          "name": "stderr"
        },
        {
          "output_type": "stream",
          "text": [
            "{'eval_loss': 0.7065767049789429, 'eval_accuracy': 0.48509174311926606, 'eval_f1': 0.5838739573679333, 'eval_precision_score': 0.49606299212598426, 'eval_recall_score': 0.7094594594594594, 'eval_runtime': 3.2639, 'eval_samples_per_second': 267.168, 'epoch': 7, 'eval_mem_cpu_alloc_delta': 0, 'eval_mem_gpu_alloc_delta': 0, 'eval_mem_cpu_peaked_delta': 0, 'eval_mem_gpu_peaked_delta': 479175680, 'labeled_data': array([False, False, False, ..., False, False, False]), 'Next Training set size': 260}\n"
          ],
          "name": "stdout"
        },
        {
          "output_type": "display_data",
          "data": {
            "text/html": [
              "\n",
              "    <div>\n",
              "        <style>\n",
              "            /* Turns off some styling */\n",
              "            progress {\n",
              "                /* gets rid of default border in Firefox and Opera. */\n",
              "                border: none;\n",
              "                /* Needs to be in here for Safari polyfill so background images work as expected. */\n",
              "                background-size: auto;\n",
              "            }\n",
              "        </style>\n",
              "      \n",
              "      <progress value='17' max='17' style='width:300px; height:20px; vertical-align: middle;'></progress>\n",
              "      [17/17 00:04, Epoch 1/1]\n",
              "    </div>\n",
              "    <table border=\"1\" class=\"dataframe\">\n",
              "  <thead>\n",
              "    <tr style=\"text-align: left;\">\n",
              "      <th>Step</th>\n",
              "      <th>Training Loss</th>\n",
              "    </tr>\n",
              "  </thead>\n",
              "  <tbody>\n",
              "  </tbody>\n",
              "</table><p>"
            ],
            "text/plain": [
              "<IPython.core.display.HTML object>"
            ]
          },
          "metadata": {
            "tags": []
          }
        },
        {
          "output_type": "stream",
          "text": [
            "[73-MainThread   ] [baal.transformers_trainer_wrapper:predict_on_dataset_generator:61] 2021-05-12T19:36:17.435101Z [\u001b[32minfo     ] Start Predict                  dataset=67089\n"
          ],
          "name": "stdout"
        },
        {
          "output_type": "stream",
          "text": [
            "100%|██████████| 1049/1049 [12:03<00:00,  1.45it/s]\n"
          ],
          "name": "stderr"
        },
        {
          "output_type": "stream",
          "text": [
            "{'eval_loss': 0.7076452374458313, 'eval_accuracy': 0.4724770642201835, 'eval_f1': 0.5848375451263538, 'eval_precision_score': 0.4879518072289157, 'eval_recall_score': 0.7297297297297297, 'eval_runtime': 3.2654, 'eval_samples_per_second': 267.043, 'epoch': 8, 'eval_mem_cpu_alloc_delta': 0, 'eval_mem_gpu_alloc_delta': 0, 'eval_mem_cpu_peaked_delta': 0, 'eval_mem_gpu_peaked_delta': 277857792, 'labeled_data': array([False, False, False, ..., False, False, False]), 'Next Training set size': 280}\n"
          ],
          "name": "stdout"
        },
        {
          "output_type": "display_data",
          "data": {
            "text/html": [
              "\n",
              "    <div>\n",
              "        <style>\n",
              "            /* Turns off some styling */\n",
              "            progress {\n",
              "                /* gets rid of default border in Firefox and Opera. */\n",
              "                border: none;\n",
              "                /* Needs to be in here for Safari polyfill so background images work as expected. */\n",
              "                background-size: auto;\n",
              "            }\n",
              "        </style>\n",
              "      \n",
              "      <progress value='18' max='18' style='width:300px; height:20px; vertical-align: middle;'></progress>\n",
              "      [18/18 00:04, Epoch 1/1]\n",
              "    </div>\n",
              "    <table border=\"1\" class=\"dataframe\">\n",
              "  <thead>\n",
              "    <tr style=\"text-align: left;\">\n",
              "      <th>Step</th>\n",
              "      <th>Training Loss</th>\n",
              "    </tr>\n",
              "  </thead>\n",
              "  <tbody>\n",
              "  </tbody>\n",
              "</table><p>"
            ],
            "text/plain": [
              "<IPython.core.display.HTML object>"
            ]
          },
          "metadata": {
            "tags": []
          }
        },
        {
          "output_type": "stream",
          "text": [
            "[73-MainThread   ] [baal.transformers_trainer_wrapper:predict_on_dataset_generator:61] 2021-05-12T19:48:30.257114Z [\u001b[32minfo     ] Start Predict                  dataset=67069\n"
          ],
          "name": "stdout"
        },
        {
          "output_type": "stream",
          "text": [
            "100%|██████████| 1048/1048 [12:03<00:00,  1.45it/s]"
          ],
          "name": "stderr"
        },
        {
          "output_type": "stream",
          "text": [
            "{'eval_loss': 0.7080803513526917, 'eval_accuracy': 0.4701834862385321, 'eval_f1': 0.5769230769230769, 'eval_precision_score': 0.4861111111111111, 'eval_recall_score': 0.7094594594594594, 'eval_runtime': 3.2647, 'eval_samples_per_second': 267.102, 'epoch': 9, 'eval_mem_cpu_alloc_delta': 0, 'eval_mem_gpu_alloc_delta': 0, 'eval_mem_cpu_peaked_delta': 0, 'eval_mem_gpu_peaked_delta': 277857792, 'labeled_data': array([False, False, False, ..., False, False, False]), 'Next Training set size': 300}\n",
            "300\n"
          ],
          "name": "stdout"
        },
        {
          "output_type": "stream",
          "text": [
            "\n"
          ],
          "name": "stderr"
        }
      ]
    }
  ]
}